{
 "cells": [
  {
   "cell_type": "code",
   "execution_count": 34,
   "metadata": {},
   "outputs": [],
   "source": [
    "import pandas as pd\n",
    "\n",
    "full_virus_df = pd.read_excel(\"ICTV/VMR_MSL39_v1.xlsx\")\n",
    "\n",
    "columns_to_drop = ['Sort', 'Isolate Sort']\n",
    "full_virus_df = full_virus_df.drop(columns=columns_to_drop)"
   ]
  },
  {
   "cell_type": "code",
   "execution_count": 35,
   "metadata": {},
   "outputs": [
    {
     "name": "stdout",
     "output_type": "stream",
     "text": [
      "<class 'pandas.core.frame.DataFrame'>\n",
      "RangeIndex: 16391 entries, 0 to 16390\n",
      "Data columns (total 24 columns):\n",
      " #   Column                          Non-Null Count  Dtype  \n",
      "---  ------                          --------------  -----  \n",
      " 0   Realm                           15734 non-null  object \n",
      " 1   Subrealm                        0 non-null      float64\n",
      " 2   Kingdom                         15685 non-null  object \n",
      " 3   Subkingdom                      0 non-null      float64\n",
      " 4   Phylum                          15665 non-null  object \n",
      " 5   Subphylum                       1673 non-null   object \n",
      " 6   Class                           15781 non-null  object \n",
      " 7   Subclass                        0 non-null      float64\n",
      " 8   Order                           11010 non-null  object \n",
      " 9   Suborder                        332 non-null    object \n",
      " 10  Family                          13748 non-null  object \n",
      " 11  Subfamily                       5055 non-null   object \n",
      " 12  Genus                           16382 non-null  object \n",
      " 13  Subgenus                        142 non-null    object \n",
      " 14  Species                         16391 non-null  object \n",
      " 15  Exemplar or additional isolate  16391 non-null  object \n",
      " 16  Virus name(s)                   16390 non-null  object \n",
      " 17  Virus name abbreviation(s)      8246 non-null   object \n",
      " 18  Virus isolate designation       8121 non-null   object \n",
      " 19  Virus GENBANK accession         16221 non-null  object \n",
      " 20  Virus REFSEQ accession          9336 non-null   object \n",
      " 21  Genome coverage                 16391 non-null  object \n",
      " 22  Genome composition              16391 non-null  object \n",
      " 23  Host source                     16391 non-null  object \n",
      "dtypes: float64(3), object(21)\n",
      "memory usage: 3.0+ MB\n"
     ]
    }
   ],
   "source": [
    "full_virus_df.info()"
   ]
  },
  {
   "cell_type": "code",
   "execution_count": 36,
   "metadata": {},
   "outputs": [],
   "source": [
    "full_virus_df.to_csv(\"full_virus_list.csv\", index=False)"
   ]
  },
  {
   "cell_type": "code",
   "execution_count": 37,
   "metadata": {},
   "outputs": [
    {
     "name": "stdout",
     "output_type": "stream",
     "text": [
      "<class 'pandas.core.frame.DataFrame'>\n",
      "RangeIndex: 4637 entries, 0 to 4636\n",
      "Data columns (total 9 columns):\n",
      " #   Column        Non-Null Count  Dtype  \n",
      "---  ------        --------------  -----  \n",
      " 0   Phage_ID      4637 non-null   object \n",
      " 1   Length        4637 non-null   int64  \n",
      " 2   GC_content    4637 non-null   float64\n",
      " 3   Taxonomy      4537 non-null   object \n",
      " 4   Completeness  4637 non-null   object \n",
      " 5   Host          4637 non-null   object \n",
      " 6   Lifestyle     4637 non-null   object \n",
      " 7   Cluster       4637 non-null   object \n",
      " 8   Subcluster    4637 non-null   object \n",
      "dtypes: float64(1), int64(1), object(7)\n",
      "memory usage: 326.2+ KB\n"
     ]
    }
   ],
   "source": [
    "refbank_phage_data = pd.read_csv('phage_scope/refseq_phage_meta_data.tsv', sep='\\t')\n",
    "refbank_phage_data.info()"
   ]
  },
  {
   "cell_type": "code",
   "execution_count": 38,
   "metadata": {},
   "outputs": [
    {
     "name": "stdout",
     "output_type": "stream",
     "text": [
      "<class 'pandas.core.frame.DataFrame'>\n",
      "RangeIndex: 2086 entries, 0 to 2085\n",
      "Data columns (total 9 columns):\n",
      " #   Column        Non-Null Count  Dtype  \n",
      "---  ------        --------------  -----  \n",
      " 0   Phage_ID      2086 non-null   object \n",
      " 1   Length        2086 non-null   int64  \n",
      " 2   GC_content    2086 non-null   float64\n",
      " 3   Taxonomy      1953 non-null   object \n",
      " 4   Completeness  2086 non-null   object \n",
      " 5   Host          2086 non-null   object \n",
      " 6   Lifestyle     2086 non-null   object \n",
      " 7   Cluster       2086 non-null   object \n",
      " 8   Subcluster    2086 non-null   object \n",
      "dtypes: float64(1), int64(1), object(7)\n",
      "memory usage: 146.8+ KB\n"
     ]
    }
   ],
   "source": [
    "genbank_phage_data = pd.read_csv('phage_scope/genbank_phage_meta_data.tsv', sep='\\t')\n",
    "genbank_phage_data.info()"
   ]
  },
  {
   "cell_type": "code",
   "execution_count": 39,
   "metadata": {},
   "outputs": [],
   "source": [
    "# Read full virus data from CSV file\n",
    "full_virus_df = pd.read_csv('full_virus_list.csv')\n",
    "\n",
    "# Modify Phage_ID to match Virus REFSEQ accession by removing '.1'\n",
    "refbank_phage_data['Phage_ID_mod'] = refbank_phage_data['Phage_ID'].apply(lambda x: x.split('.')[0])\n",
    "\n",
    "# Merge based on modified Phage_ID_mod and Virus REFSEQ accession\n",
    "merged_data1 = pd.merge(refbank_phage_data, full_virus_df, left_on='Phage_ID_mod', right_on='Virus REFSEQ accession', how='inner')\n"
   ]
  },
  {
   "cell_type": "code",
   "execution_count": 40,
   "metadata": {},
   "outputs": [
    {
     "name": "stdout",
     "output_type": "stream",
     "text": [
      "<class 'pandas.core.frame.DataFrame'>\n",
      "RangeIndex: 3659 entries, 0 to 3658\n",
      "Data columns (total 34 columns):\n",
      " #   Column                          Non-Null Count  Dtype  \n",
      "---  ------                          --------------  -----  \n",
      " 0   Phage_ID                        3659 non-null   object \n",
      " 1   Length                          3659 non-null   int64  \n",
      " 2   GC_content                      3659 non-null   float64\n",
      " 3   Taxonomy                        3587 non-null   object \n",
      " 4   Completeness                    3659 non-null   object \n",
      " 5   Host                            3659 non-null   object \n",
      " 6   Lifestyle                       3659 non-null   object \n",
      " 7   Cluster                         3659 non-null   object \n",
      " 8   Subcluster                      3659 non-null   object \n",
      " 9   Phage_ID_mod                    3659 non-null   object \n",
      " 10  Realm                           3658 non-null   object \n",
      " 11  Subrealm                        0 non-null      float64\n",
      " 12  Kingdom                         3658 non-null   object \n",
      " 13  Subkingdom                      0 non-null      float64\n",
      " 14  Phylum                          3658 non-null   object \n",
      " 15  Subphylum                       0 non-null      object \n",
      " 16  Class                           3658 non-null   object \n",
      " 17  Subclass                        0 non-null      float64\n",
      " 18  Order                           149 non-null    object \n",
      " 19  Suborder                        0 non-null      object \n",
      " 20  Family                          1649 non-null   object \n",
      " 21  Subfamily                       1731 non-null   object \n",
      " 22  Genus                           3658 non-null   object \n",
      " 23  Subgenus                        0 non-null      object \n",
      " 24  Species                         3659 non-null   object \n",
      " 25  Exemplar or additional isolate  3659 non-null   object \n",
      " 26  Virus name(s)                   3659 non-null   object \n",
      " 27  Virus name abbreviation(s)      99 non-null     object \n",
      " 28  Virus isolate designation       15 non-null     object \n",
      " 29  Virus GENBANK accession         3659 non-null   object \n",
      " 30  Virus REFSEQ accession          3659 non-null   object \n",
      " 31  Genome coverage                 3659 non-null   object \n",
      " 32  Genome composition              3659 non-null   object \n",
      " 33  Host source                     3659 non-null   object \n",
      "dtypes: float64(4), int64(1), object(29)\n",
      "memory usage: 972.1+ KB\n"
     ]
    }
   ],
   "source": [
    "merged_data1.info()"
   ]
  },
  {
   "cell_type": "code",
   "execution_count": 41,
   "metadata": {},
   "outputs": [],
   "source": [
    "merged_data1.to_csv(\"phage/full_phage_list_refbank.csv\", index=False)"
   ]
  },
  {
   "cell_type": "code",
   "execution_count": 42,
   "metadata": {},
   "outputs": [],
   "source": [
    "\n",
    "# Modify Phage_ID to match Virus REFSEQ accession by removing '.1'\n",
    "genbank_phage_data['Phage_ID_mod'] = genbank_phage_data['Phage_ID'].apply(lambda x: x.split('.')[0])\n",
    "\n",
    "# Merge based on modified Phage_ID_mod and Virus REFSEQ accession\n",
    "merged_data2 = pd.merge(genbank_phage_data, full_virus_df, left_on='Phage_ID_mod', right_on='Virus GENBANK accession', how='inner')"
   ]
  },
  {
   "cell_type": "code",
   "execution_count": 43,
   "metadata": {},
   "outputs": [
    {
     "name": "stdout",
     "output_type": "stream",
     "text": [
      "<class 'pandas.core.frame.DataFrame'>\n",
      "RangeIndex: 1112 entries, 0 to 1111\n",
      "Data columns (total 34 columns):\n",
      " #   Column                          Non-Null Count  Dtype  \n",
      "---  ------                          --------------  -----  \n",
      " 0   Phage_ID                        1112 non-null   object \n",
      " 1   Length                          1112 non-null   int64  \n",
      " 2   GC_content                      1112 non-null   float64\n",
      " 3   Taxonomy                        1096 non-null   object \n",
      " 4   Completeness                    1112 non-null   object \n",
      " 5   Host                            1112 non-null   object \n",
      " 6   Lifestyle                       1112 non-null   object \n",
      " 7   Cluster                         1112 non-null   object \n",
      " 8   Subcluster                      1112 non-null   object \n",
      " 9   Phage_ID_mod                    1112 non-null   object \n",
      " 10  Realm                           1111 non-null   object \n",
      " 11  Subrealm                        0 non-null      float64\n",
      " 12  Kingdom                         1111 non-null   object \n",
      " 13  Subkingdom                      0 non-null      float64\n",
      " 14  Phylum                          1111 non-null   object \n",
      " 15  Subphylum                       0 non-null      object \n",
      " 16  Class                           1111 non-null   object \n",
      " 17  Subclass                        0 non-null      float64\n",
      " 18  Order                           50 non-null     object \n",
      " 19  Suborder                        0 non-null      object \n",
      " 20  Family                          466 non-null    object \n",
      " 21  Subfamily                       498 non-null    object \n",
      " 22  Genus                           1111 non-null   object \n",
      " 23  Subgenus                        0 non-null      object \n",
      " 24  Species                         1112 non-null   object \n",
      " 25  Exemplar or additional isolate  1112 non-null   object \n",
      " 26  Virus name(s)                   1112 non-null   object \n",
      " 27  Virus name abbreviation(s)      34 non-null     object \n",
      " 28  Virus isolate designation       12 non-null     object \n",
      " 29  Virus GENBANK accession         1112 non-null   object \n",
      " 30  Virus REFSEQ accession          1092 non-null   object \n",
      " 31  Genome coverage                 1112 non-null   object \n",
      " 32  Genome composition              1112 non-null   object \n",
      " 33  Host source                     1112 non-null   object \n",
      "dtypes: float64(4), int64(1), object(29)\n",
      "memory usage: 295.5+ KB\n"
     ]
    }
   ],
   "source": [
    "merged_data2.info()"
   ]
  },
  {
   "cell_type": "code",
   "execution_count": 44,
   "metadata": {},
   "outputs": [],
   "source": [
    "merged_data2.to_csv(\"phage/full_phage_list_genbank.csv\", index=False)"
   ]
  },
  {
   "cell_type": "code",
   "execution_count": 45,
   "metadata": {},
   "outputs": [
    {
     "name": "stdout",
     "output_type": "stream",
     "text": [
      "<class 'pandas.core.frame.DataFrame'>\n",
      "Index: 4771 entries, 0 to 1111\n",
      "Data columns (total 34 columns):\n",
      " #   Column                          Non-Null Count  Dtype  \n",
      "---  ------                          --------------  -----  \n",
      " 0   Phage_ID                        4771 non-null   object \n",
      " 1   Length                          4771 non-null   int64  \n",
      " 2   GC_content                      4771 non-null   float64\n",
      " 3   Taxonomy                        4683 non-null   object \n",
      " 4   Completeness                    4771 non-null   object \n",
      " 5   Host                            4771 non-null   object \n",
      " 6   Lifestyle                       4771 non-null   object \n",
      " 7   Cluster                         4771 non-null   object \n",
      " 8   Subcluster                      4771 non-null   object \n",
      " 9   Phage_ID_mod                    4771 non-null   object \n",
      " 10  Realm                           4769 non-null   object \n",
      " 11  Subrealm                        0 non-null      float64\n",
      " 12  Kingdom                         4769 non-null   object \n",
      " 13  Subkingdom                      0 non-null      float64\n",
      " 14  Phylum                          4769 non-null   object \n",
      " 15  Subphylum                       0 non-null      object \n",
      " 16  Class                           4769 non-null   object \n",
      " 17  Subclass                        0 non-null      float64\n",
      " 18  Order                           199 non-null    object \n",
      " 19  Suborder                        0 non-null      object \n",
      " 20  Family                          2115 non-null   object \n",
      " 21  Subfamily                       2229 non-null   object \n",
      " 22  Genus                           4769 non-null   object \n",
      " 23  Subgenus                        0 non-null      object \n",
      " 24  Species                         4771 non-null   object \n",
      " 25  Exemplar or additional isolate  4771 non-null   object \n",
      " 26  Virus name(s)                   4771 non-null   object \n",
      " 27  Virus name abbreviation(s)      133 non-null    object \n",
      " 28  Virus isolate designation       27 non-null     object \n",
      " 29  Virus GENBANK accession         4771 non-null   object \n",
      " 30  Virus REFSEQ accession          4751 non-null   object \n",
      " 31  Genome coverage                 4771 non-null   object \n",
      " 32  Genome composition              4771 non-null   object \n",
      " 33  Host source                     4771 non-null   object \n",
      "dtypes: float64(4), int64(1), object(29)\n",
      "memory usage: 1.3+ MB\n"
     ]
    }
   ],
   "source": [
    "combined_data = pd.concat([merged_data1, merged_data2])\n",
    "\n",
    "combined_data.info()"
   ]
  },
  {
   "cell_type": "code",
   "execution_count": 46,
   "metadata": {},
   "outputs": [
    {
     "data": {
      "text/plain": [
       "(3682, 3662)"
      ]
     },
     "execution_count": 46,
     "metadata": {},
     "output_type": "execute_result"
    }
   ],
   "source": [
    "# check how many unique Virus GENBANK accession,Virus REFSEQ accession are present\n",
    "combined_data['Virus GENBANK accession'].nunique(), combined_data['Virus REFSEQ accession'].nunique()"
   ]
  },
  {
   "cell_type": "code",
   "execution_count": 47,
   "metadata": {},
   "outputs": [
    {
     "data": {
      "text/plain": [
       "Index(['Phage_ID', 'Length', 'GC_content', 'Taxonomy', 'Completeness', 'Host',\n",
       "       'Lifestyle', 'Cluster', 'Subcluster', 'Phage_ID_mod', 'Realm',\n",
       "       'Subrealm', 'Kingdom', 'Subkingdom', 'Phylum', 'Subphylum', 'Class',\n",
       "       'Subclass', 'Order', 'Suborder', 'Family', 'Subfamily', 'Genus',\n",
       "       'Subgenus', 'Species', 'Exemplar or additional isolate',\n",
       "       'Virus name(s)', 'Virus name abbreviation(s)',\n",
       "       'Virus isolate designation', 'Virus GENBANK accession',\n",
       "       'Virus REFSEQ accession', 'Genome coverage', 'Genome composition',\n",
       "       'Host source'],\n",
       "      dtype='object')"
      ]
     },
     "execution_count": 47,
     "metadata": {},
     "output_type": "execute_result"
    }
   ],
   "source": [
    "combined_data.columns"
   ]
  },
  {
   "cell_type": "code",
   "execution_count": 48,
   "metadata": {},
   "outputs": [
    {
     "name": "stdout",
     "output_type": "stream",
     "text": [
      "<class 'pandas.core.frame.DataFrame'>\n",
      "Index: 3682 entries, 0 to 1022\n",
      "Data columns (total 34 columns):\n",
      " #   Column                          Non-Null Count  Dtype  \n",
      "---  ------                          --------------  -----  \n",
      " 0   Phage_ID                        3682 non-null   object \n",
      " 1   Length                          3682 non-null   int64  \n",
      " 2   GC_content                      3682 non-null   float64\n",
      " 3   Taxonomy                        3609 non-null   object \n",
      " 4   Completeness                    3682 non-null   object \n",
      " 5   Host                            3682 non-null   object \n",
      " 6   Lifestyle                       3682 non-null   object \n",
      " 7   Cluster                         3682 non-null   object \n",
      " 8   Subcluster                      3682 non-null   object \n",
      " 9   Phage_ID_mod                    3682 non-null   object \n",
      " 10  Realm                           3681 non-null   object \n",
      " 11  Subrealm                        0 non-null      float64\n",
      " 12  Kingdom                         3681 non-null   object \n",
      " 13  Subkingdom                      0 non-null      float64\n",
      " 14  Phylum                          3681 non-null   object \n",
      " 15  Subphylum                       0 non-null      object \n",
      " 16  Class                           3681 non-null   object \n",
      " 17  Subclass                        0 non-null      float64\n",
      " 18  Order                           158 non-null    object \n",
      " 19  Suborder                        0 non-null      object \n",
      " 20  Family                          1667 non-null   object \n",
      " 21  Subfamily                       1738 non-null   object \n",
      " 22  Genus                           3681 non-null   object \n",
      " 23  Subgenus                        0 non-null      object \n",
      " 24  Species                         3682 non-null   object \n",
      " 25  Exemplar or additional isolate  3682 non-null   object \n",
      " 26  Virus name(s)                   3682 non-null   object \n",
      " 27  Virus name abbreviation(s)      108 non-null    object \n",
      " 28  Virus isolate designation       23 non-null     object \n",
      " 29  Virus GENBANK accession         3682 non-null   object \n",
      " 30  Virus REFSEQ accession          3662 non-null   object \n",
      " 31  Genome coverage                 3682 non-null   object \n",
      " 32  Genome composition              3682 non-null   object \n",
      " 33  Host source                     3682 non-null   object \n",
      "dtypes: float64(4), int64(1), object(29)\n",
      "memory usage: 1006.8+ KB\n"
     ]
    }
   ],
   "source": [
    "# Assuming combined_data is your DataFrame with merged and concatenated data\n",
    "\n",
    "# Remove duplicates based on Virus GENBANK accession and Virus REFSEQ accession\n",
    "cleaned_data = combined_data.drop_duplicates(subset=['Virus GENBANK accession', 'Virus REFSEQ accession'])\n",
    "\n",
    "# Print information about the cleaned data\n",
    "cleaned_data.info()\n"
   ]
  },
  {
   "cell_type": "code",
   "execution_count": 49,
   "metadata": {},
   "outputs": [],
   "source": [
    "# save the cleaned data to a CSV file\n",
    "cleaned_data.to_csv(\"phage/full_phage_list_combined.csv\", index=False)"
   ]
  },
  {
   "cell_type": "code",
   "execution_count": null,
   "metadata": {},
   "outputs": [],
   "source": []
  }
 ],
 "metadata": {
  "kernelspec": {
   "display_name": "env",
   "language": "python",
   "name": "python3"
  },
  "language_info": {
   "codemirror_mode": {
    "name": "ipython",
    "version": 3
   },
   "file_extension": ".py",
   "mimetype": "text/x-python",
   "name": "python",
   "nbconvert_exporter": "python",
   "pygments_lexer": "ipython3",
   "version": "3.12.1"
  }
 },
 "nbformat": 4,
 "nbformat_minor": 2
}
