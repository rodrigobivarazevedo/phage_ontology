{
 "cells": [
  {
   "cell_type": "code",
   "execution_count": 47,
   "metadata": {},
   "outputs": [],
   "source": [
    "import pandas as pd"
   ]
  },
  {
   "cell_type": "code",
   "execution_count": 48,
   "metadata": {},
   "outputs": [],
   "source": [
    "\n",
    "# Path to your Excel file\n",
    "excel_file = 'ICTV/VMR_MSL39_v1.xlsx'\n",
    "\n",
    "# Load the Excel file into a Pandas DataFrame\n",
    "df = pd.read_excel(excel_file)\n",
    "\n",
    "# Filter rows where 'Class' is 'Caudoviricetes'\n",
    "filtered_df = df[df['Class'] == 'Caudoviricetes']\n"
   ]
  },
  {
   "cell_type": "code",
   "execution_count": 49,
   "metadata": {},
   "outputs": [],
   "source": [
    "columns_to_drop = ['Sort', 'Isolate Sort']\n",
    "filtered_df = filtered_df.drop(columns=columns_to_drop)\n"
   ]
  },
  {
   "cell_type": "code",
   "execution_count": 50,
   "metadata": {},
   "outputs": [
    {
     "data": {
      "text/plain": [
       "Class\n",
       "Caudoviricetes    4863\n",
       "Name: count, dtype: int64"
      ]
     },
     "execution_count": 50,
     "metadata": {},
     "output_type": "execute_result"
    }
   ],
   "source": [
    "filtered_df.Class.value_counts()"
   ]
  },
  {
   "cell_type": "code",
   "execution_count": 51,
   "metadata": {},
   "outputs": [
    {
     "name": "stdout",
     "output_type": "stream",
     "text": [
      "<class 'pandas.core.frame.DataFrame'>\n",
      "Index: 4863 entries, 165 to 5027\n",
      "Data columns (total 24 columns):\n",
      " #   Column                          Non-Null Count  Dtype  \n",
      "---  ------                          --------------  -----  \n",
      " 0   Realm                           4863 non-null   object \n",
      " 1   Subrealm                        0 non-null      float64\n",
      " 2   Kingdom                         4863 non-null   object \n",
      " 3   Subkingdom                      0 non-null      float64\n",
      " 4   Phylum                          4863 non-null   object \n",
      " 5   Subphylum                       0 non-null      object \n",
      " 6   Class                           4863 non-null   object \n",
      " 7   Subclass                        0 non-null      float64\n",
      " 8   Order                           110 non-null    object \n",
      " 9   Suborder                        0 non-null      object \n",
      " 10  Family                          2239 non-null   object \n",
      " 11  Subfamily                       2288 non-null   object \n",
      " 12  Genus                           4862 non-null   object \n",
      " 13  Subgenus                        0 non-null      object \n",
      " 14  Species                         4863 non-null   object \n",
      " 15  Exemplar or additional isolate  4863 non-null   object \n",
      " 16  Virus name(s)                   4862 non-null   object \n",
      " 17  Virus name abbreviation(s)      222 non-null    object \n",
      " 18  Virus isolate designation       19 non-null     object \n",
      " 19  Virus GENBANK accession         4862 non-null   object \n",
      " 20  Virus REFSEQ accession          3665 non-null   object \n",
      " 21  Genome coverage                 4863 non-null   object \n",
      " 22  Genome composition              4863 non-null   object \n",
      " 23  Host source                     4863 non-null   object \n",
      "dtypes: float64(3), object(21)\n",
      "memory usage: 949.8+ KB\n"
     ]
    }
   ],
   "source": [
    "filtered_df.info()"
   ]
  },
  {
   "cell_type": "code",
   "execution_count": 52,
   "metadata": {},
   "outputs": [
    {
     "name": "stdout",
     "output_type": "stream",
     "text": [
      "Filtered data saved to caudoviricetes_data.csv\n"
     ]
    }
   ],
   "source": [
    "# Path to save the CSV file\n",
    "csv_file = 'caudoviricetes_data.csv'\n",
    "\n",
    "# Save filtered data to CSV\n",
    "filtered_df.to_csv(csv_file, index=False)\n",
    "\n",
    "print(f\"Filtered data saved to {csv_file}\")"
   ]
  },
  {
   "cell_type": "code",
   "execution_count": 53,
   "metadata": {},
   "outputs": [
    {
     "data": {
      "text/plain": [
       "Family\n",
       "Autographiviridae    381\n",
       "Drexlerviridae       236\n",
       "Straboviridae        209\n",
       "Demerecviridae       195\n",
       "Herelleviridae       142\n",
       "                    ... \n",
       "Soleiviridae           1\n",
       "Aggregaviridae         1\n",
       "Arenbergviridae        1\n",
       "Fervensviridae         1\n",
       "Leisingerviridae       1\n",
       "Name: count, Length: 74, dtype: int64"
      ]
     },
     "execution_count": 53,
     "metadata": {},
     "output_type": "execute_result"
    }
   ],
   "source": [
    "filtered_df.Family.value_counts()"
   ]
  },
  {
   "cell_type": "code",
   "execution_count": null,
   "metadata": {},
   "outputs": [],
   "source": []
  }
 ],
 "metadata": {
  "kernelspec": {
   "display_name": "env",
   "language": "python",
   "name": "python3"
  },
  "language_info": {
   "codemirror_mode": {
    "name": "ipython",
    "version": 3
   },
   "file_extension": ".py",
   "mimetype": "text/x-python",
   "name": "python",
   "nbconvert_exporter": "python",
   "pygments_lexer": "ipython3",
   "version": "3.12.1"
  }
 },
 "nbformat": 4,
 "nbformat_minor": 2
}
